{
 "cells": [
  {
   "cell_type": "markdown",
   "metadata": {},
   "source": [
    "# Better Enumeration"
   ]
  },
  {
   "cell_type": "markdown",
   "metadata": {},
   "source": [
    "## Pseudo-Code\n",
    "The \"Better Enumeration\" maximum sub-array algorithm is described by the following pseudo-code:\n",
    "~~~~\n",
    "BETTER-ENUMERATION-MAX-SUBARRAY(A[1, ..., N])\n",
    "\tmaximum sum = -Infinity\n",
    "\tfor i from 1 to N\n",
    "\t\tcurrent sum = 0\n",
    "\t\tfor j from i to N\n",
    "\t\t\tcurrent sum = current sum + A[j]\n",
    "\t\t\tif current sum > maximum sum\n",
    "\t\t\t\tmaximum sum = current sum\n",
    "\t\t\t\tstart index = i\n",
    "\t\t\t\tend index = j\n",
    "\n",
    "\treturn maximum sum, A[start index, ..., end index]\n",
    "~~~~"
   ]
  },
  {
   "cell_type": "markdown",
   "metadata": {},
   "source": [
    "## Theoretical Run-time Analysis\n",
    "The outer $i$ loop runs from $1$ to $N$, and the inner $j$ loop runs from $i$ to $N$. Inside the inner loop are constant time operations. We can compute the number of iterations of these constant time operations as:\n",
    "\n",
    "\\begin{equation}\n",
    "\\begin{split}\n",
    "\\sum_{i=1}^N \\sum_{j=i}^N \\Theta(1) & =  \\sum_{i=1}^N (N + 1 - i)\\cdot \\Theta(1) =N(N+1)\\cdot \\Theta(1) -\\frac{1}{2}N(N+1)\\cdot \\Theta(1) \\\\\n",
    "& = \\frac{1}{2}N(N+1)\\cdot \\Theta(1) = \\Theta(N^2)\n",
    "\\end{split}\n",
    "\\end{equation}\n",
    "\n",
    "Thus, the theoritical run-time is $\\Theta(N^2)$."
   ]
  },
  {
   "cell_type": "markdown",
   "metadata": {},
   "source": [
    "## Experimental Analysis\n",
    "For a series of array sizes $N$, 10 random arrays were generated and run through the \"Better Enumeration\" algorithm. The CPU clock time was recorded for each of the 10 random array inputs, and an average run time was computed. Below is the plot of average run time versus $N$ for the \"Better Enumeration\" algorithm."
   ]
  },
  {
   "cell_type": "markdown",
   "metadata": {},
   "source": [
    "<center><font color='red' size=\"6\"><img src=\"./better-enumeration.png\" /></font></center>"
   ]
  },
  {
   "cell_type": "markdown",
   "metadata": {},
   "source": [
    "A curve fit was applied to the average run time data, which resulted in the following fit equation as a function of $x$ standing in for $N$:"
   ]
  },
  {
   "cell_type": "markdown",
   "metadata": {},
   "source": [
    "$y = 5.48722 * 10^{-8} * x^{2} + 1.42659 * 10^{-4} * x - 7.776 * 10^{-1}$"
   ]
  },
  {
   "cell_type": "raw",
   "metadata": {},
   "source": [
    "<br><br>\n",
    "<center><font color='red' size=\"6\">DISCUSS FIT VS. THEORY HERE</font></center>"
   ]
  },
  {
   "cell_type": "markdown",
   "metadata": {},
   "source": [
    "Based on the average run time data curve fit, we would expect the \"Better Enumeration\" to be able to process the following number of elements in the given amount of time:\n",
    "\n",
    "|    Time    | Max Input Size |\n",
    "|:----------:|:--------------:|\n",
    "| 10 seconds |      12775     |\n",
    "| 30 seconds |      22419     |\n",
    "| 60 seconds |      32006     |"
   ]
  }
 ],
 "metadata": {
  "anaconda-cloud": {},
  "kernelspec": {
   "display_name": "Python 3",
   "language": "python",
   "name": "python3"
  },
  "language_info": {
   "codemirror_mode": {
    "name": "ipython",
    "version": 3
   },
   "file_extension": ".py",
   "mimetype": "text/x-python",
   "name": "python",
   "nbconvert_exporter": "python",
   "pygments_lexer": "ipython3",
   "version": "3.5.2"
  }
 },
 "nbformat": 4,
 "nbformat_minor": 1
}
