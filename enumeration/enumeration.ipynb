{
 "cells": [
  {
   "cell_type": "markdown",
   "metadata": {},
   "source": [
    "# Enumeration"
   ]
  },
  {
   "cell_type": "markdown",
   "metadata": {},
   "source": [
    "## Pseudo-code\n",
    "The \"Enumeration\" maximum sub-array algorithm is described by the following pseudo-code:\n",
    "~~~~\n",
    "ENUMERATION-MAX-SUBARRAY(A[1,...,N]) {\n",
    "    if N == 0 {\n",
    "        return 0, A\n",
    "    } else {\n",
    "        max_sum = -Infinity\n",
    "    }\n",
    "    \n",
    "    for i from 1 to N {\n",
    "        for j from i to N {\n",
    "            current_sum = 0\n",
    "            for k from i to j {\n",
    "                current_sum = current_sum + A[k]\n",
    "                if current_sum > max_sum {\n",
    "                    max_sum = current_sum\n",
    "                    start_index = i\n",
    "                    end_index = j\n",
    "                }\n",
    "            }\n",
    "        }\n",
    "    }\n",
    "    return max_sum, A[start_index, ..., end_index]\n",
    "}\n",
    "~~~~"
   ]
  },
  {
   "cell_type": "markdown",
   "metadata": {},
   "source": [
    "## Theoretical Run-time Analysis\n",
    "The outer $i$ loop runs from $1$ to $N$, the first inner $j$ loop runs from $i$ to $N$, and the second inner loop runs from $i$ to $j$. We can compute the number of iterations as:\n",
    "\n"
   ]
  }
 ],
 "metadata": {
  "kernelspec": {
   "display_name": "Python 3",
   "language": "python",
   "name": "python3"
  },
  "language_info": {
   "codemirror_mode": {
    "name": "ipython",
    "version": 3
   },
   "file_extension": ".py",
   "mimetype": "text/x-python",
   "name": "python",
   "nbconvert_exporter": "python",
   "pygments_lexer": "ipython3",
   "version": "3.5.2"
  }
 },
 "nbformat": 4,
 "nbformat_minor": 0
}
