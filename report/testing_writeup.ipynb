{
 "cells": [
  {
   "cell_type": "markdown",
   "metadata": {},
   "source": [
    "# Testing\n",
    "Several sets of test data were used to ensure the accuracy of each of the algorithms. These test data were comprised of arrays of values with known maximum sub-array solutions. These test sets were run through each algorithm, and the output was compared to the known solution.\n",
    "\n",
    "Along with the provided set of test cases, several additional test cases were generated in order to test the algorithm accuracy under very specific conditions. Some examples of these test cases include:\n",
    "* The trivial case of a single array element\n",
    "* Arrays with a single positive value as the first or last element (to test the handling of the boundaries)\n",
    "* Arrays with a single positive value in the middle of the arrary\n",
    "* Arrays where the running sum reaches 0 at some point (i.e. multiple maximum sum sub-arrays possible)\n",
    "\n",
    "All algorithms correctly solved all of the test data sets."
   ]
  },
  {
   "cell_type": "markdown",
   "metadata": {},
   "source": [
    "# Algorithm Comparison Plots\n",
    "\n",
    "Three plots were generated with various combinations of linear and log scales to show the performance of the various algorithms together.\n",
    "\n",
    "Linear plot:\n",
    "<img src=\"./img/all-in-one_linearPlot.png\" />\n",
    "\n",
    "Linear Log plot:\n",
    "<img src=\"./img/all-in-one_linearLogPlot.png\" />\n",
    "\n",
    "Log Log plot:\n",
    "<img src=\"./img/all-in-one_logLogPlot.png\" />"
   ]
  }
 ],
 "metadata": {
  "anaconda-cloud": {},
  "kernelspec": {
   "display_name": "Python 3",
   "language": "python",
   "name": "python3"
  },
  "language_info": {
   "codemirror_mode": {
    "name": "ipython",
    "version": 3
   },
   "file_extension": ".py",
   "mimetype": "text/x-python",
   "name": "python",
   "nbconvert_exporter": "python",
   "pygments_lexer": "ipython3",
   "version": "3.5.2"
  }
 },
 "nbformat": 4,
 "nbformat_minor": 1
}
