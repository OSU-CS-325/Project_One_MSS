{
 "cells": [
  {
   "cell_type": "markdown",
   "metadata": {},
   "source": [
    "# Divide and Conquer"
   ]
  },
  {
   "cell_type": "markdown",
   "metadata": {},
   "source": [
    "## Pseudo-code\n",
    "The \"Divide and Conquer\" maximum sub-array algorithm is described by the following pseudo-code:\n",
    "~~~~\n",
    "DIVIDE_AND_CONQUER(A[1,...,N]){\n",
    "    if N == 0 {\n",
    "        return 0, A\n",
    "    } else if N == 1 {\n",
    "        return A[0], A\n",
    "    }\n",
    "\n",
    "    tmp_max = 0\n",
    "    mid_max = 0\n",
    "    mid_start = 0\n",
    "    mid_end = 0\n",
    "\n",
    "    left_max = 0\n",
    "    right_max = 0\n",
    "\n",
    "    midpoint = N / 2\n",
    "\n",
    "    mid_start = midpoint\n",
    "    mid_end = midpoint\n",
    "\n",
    "    for i from A[N,...,midpoint] {\n",
    "        tmp_max = tmp_max + A[i]\n",
    "        if tmp_max > left_max {\n",
    "            left_max = tmp_max\n",
    "            mid_start = i\n",
    "        }\n",
    "    }\n",
    "\n",
    "    tmp_max = 0\n",
    "\n",
    "    for i from A[midpoint,...,N] {\n",
    "        tmp_max = tmp_max + A[i]\n",
    "        if tmp_max > right_max {\n",
    "            right_max = tmp_max\n",
    "            mid_end = i + 1\n",
    "        }\n",
    "    }\n",
    "\n",
    "    mid_max = left_max + right_max\n",
    "\n",
    "    left_max, left_subarray = DIVIDE_AND_CONQUER(A[0,...,midpoint])\n",
    "    right_max, right_subarray = DIVIDE_AND_CONQUER(A[midpoint,...,N])\n",
    "\n",
    "    if mid_max >= left_max and mid_max >= right_max {\n",
    "        return mid_max, A[mid_start,...,mid_end]\n",
    "    } else if left_max >= right_max and left_max > mid_max {\n",
    "        return left_max, left_subarray\n",
    "    } else if right_max > left_max and right_max > mid_max {\n",
    "        return right_max, right_subarray\n",
    "    }\n",
    "}\n",
    "~~~~"
   ]
  },
  {
   "cell_type": "markdown",
   "metadata": {},
   "source": [
    "## Theoretical Run-time Analysis\n",
    "\n",
    "In order to determine the run-time of the divide and conquer algorithm we will need to derive its recurrence. We will make a simplifying assumption that the original problem size is a power of two so that all of the subproblem sizes will remain integers. We will denote $T(n)$ as the run-time of \"divide and conquer\" on a subarray of $n$ elements. The base case  is when $n = 0$ or $n = 1$ which will take constant time and as a result:\n",
    "\n",
    "* $T(1) = \\theta(1)$\n",
    "\n",
    "The recursive case occurs when $n \\gt 1$. The variable initializing prior to the first for loop will also take constant time. The following for loops are used to find the maximum sub-array that crosses the array's midpoint and will add a runtime of $\\theta(n)$. After the loops there are two recursive calls to the main function where we spend $T(\\frac{n}{2})$ solving each of them so the total contribution to the running time is $2T(\\frac{n}{2})$. The remaining if-else block would also run in constant time $(\\theta(1))$. So the recurrence in total for $n \\gt 1$ is:\n",
    "\n",
    "* $T(n) = 2T(\\frac{n}{2}) + \\theta(n) + \\theta(1)$\n",
    "* $T(n) = 2T(\\frac{n}{2}) + \\theta(n)$\n",
    "\n",
    "So the complete recurrence is:\n",
    "\n",
    "* $T(n) = \\theta(1)$ (when $n = 0$ or $n = 1$)\n",
    "* $T(n) = 2T(\\frac{n}{2}) + \\theta(n)$ (when $n \\gt 1$)\n",
    "\n",
    "The recurrence can be solved using the master method as shown below:\n",
    "\n",
    "* $T(n) = 2T(\\frac{n}{2}) + \\theta(n)$\n",
    "* $a = 2, b = 2, f(n) = \\theta(n)$\n",
    "* $n^{log_{b}(a)} = n^{log_{2}(2)} = n^{1}$\n",
    "* $\\theta(n^{log_{b}(a)}) = \\theta(n)$ (Case 2 applies)\n",
    "* $T(n) = \\theta(n^{log_{2}(2)} * log_{2}(n)) = \\theta(n * log_2(n))$ (By the master theorem)\n",
    "\n",
    "So substituting in the runtime we get:\n",
    "\n",
    "* $T(n) = \\theta(n * log_2(n)) + \\theta(n)$\n",
    "\n",
    "The $\\theta(n)$ term drops off leaving us with:\n",
    "\n",
    "* $T(n) = \\theta(n * log_2(n))$ \n",
    "\n",
    "The runtime above is for the divide and conquer algorithm for finding maximum sub arrays."
   ]
  },
  {
   "cell_type": "markdown",
   "metadata": {},
   "source": [
    "## Experimental Analysis\n",
    "For a series of array sizes $N$, $10$ random arrays were generated and run through the \"Divide and Conquer\" algorithm. The CPU clock time was recorded for each of the $10$ random array inputs, and an average run time was computed. Below is the plot of average run time versus $N$ for the \"Divide and Conquer\" algorithm."
   ]
  },
  {
   "cell_type": "markdown",
   "metadata": {},
   "source": [
    "A linear fit and logarithmic fit were applied to the average run time data, which resulted in the following fit equations as a function of $N$:\n",
    "\n",
    "<center><font color='red' size=\"6\"><img src=\"./img/divide-and-conquer.png\" /></font></center>\n",
    "\n",
    "This plot has both a linear fit and a logarithmic fit to show how similiar they present for the values plotted. The logarithmic curve fits the data points almost exactly therefore it shows that the experimental values are strongly aligned with the theoretically derived runtime of $\\theta(n * log_2(n))$."
   ]
  },
  {
   "cell_type": "markdown",
   "metadata": {},
   "source": [
    "Based on the average run time data curve fit, we would expect the \"Divide and Conquer\" algorithm to be able to process the following number of elements in the given amount of time:\n",
    "\n",
    "|    Time    | Max Input Size |\n",
    "|:----------:|:--------------:|\n",
    "| 10 seconds |      $1687210$      |\n",
    "| 30 seconds |      $5050390$      |\n",
    "| 60 seconds |      $9848770$      |"
   ]
  }
 ],
 "metadata": {
  "kernelspec": {
   "display_name": "Python 3",
   "language": "python",
   "name": "python3"
  },
  "language_info": {
   "codemirror_mode": {
    "name": "ipython",
    "version": 3
   },
   "file_extension": ".py",
   "mimetype": "text/x-python",
   "name": "python",
   "nbconvert_exporter": "python",
   "pygments_lexer": "ipython3",
   "version": "3.5.2"
  }
 },
 "nbformat": 4,
 "nbformat_minor": 0
}
