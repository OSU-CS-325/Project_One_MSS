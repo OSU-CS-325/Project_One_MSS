{
 "cells": [
  {
   "cell_type": "markdown",
   "metadata": {},
   "source": [
    "# Enumeration"
   ]
  },
  {
   "cell_type": "markdown",
   "metadata": {},
   "source": [
    "## Pseudo-code\n",
    "The \"Enumeration\" maximum sub-array algorithm is described by the following pseudo-code:\n",
    "~~~~\n",
    "ENUMERATION-MAX-SUBARRAY(A[1,...,N]) {\n",
    "    if N == 0 {\n",
    "        return 0, A\n",
    "    } else {\n",
    "        max_sum = -Infinity\n",
    "    }\n",
    "    \n",
    "    for i from 1 to N {\n",
    "        for j from i to N {\n",
    "            current_sum = 0\n",
    "            for k from i to j {\n",
    "                current_sum = current_sum + A[k]\n",
    "                if current_sum > max_sum {\n",
    "                    max_sum = current_sum\n",
    "                    start_index = i\n",
    "                    end_index = j\n",
    "                }\n",
    "            }\n",
    "        }\n",
    "    }\n",
    "    return max_sum, A[start_index, ..., end_index]\n",
    "}\n",
    "~~~~"
   ]
  },
  {
   "cell_type": "markdown",
   "metadata": {},
   "source": [
    "## Theoretical Run-time Analysis\n",
    "The outer $i$ loop runs from $1$ to $N$, the first inner $j$ loop runs from $i$ to $N$, and the second inner loop runs from $i$ to $j$. We can compute the number of iterations as:\n",
    "\n",
    "\\begin{equation}\n",
    "\\begin{split}\n",
    "\\sum_{i=1}^N \\sum_{j=i}^N \\sum_{k=i}^j \\Theta(1) & = \\sum_{i=1}^N \\sum_{j=i}^N (j - i) \\cdot \\theta(1) = \\sum_{i=1}^N (N + 1 - i)\\cdot (j - i) \\cdot \\Theta(1) = N(N+1)(j-i)\\cdot \\Theta(1) -\\frac{1}{2}N(N+1)(j-i)\\cdot \\Theta(1) \\\\\n",
    "& = \\frac{1}{2}N(N+1)(N-1)\\cdot \\Theta(1) = \\Theta(N^3)\n",
    "\\end{split}\n",
    "\\end{equation}\n",
    "\n",
    "The innermost summation will be the difference between the starting index of the sub array $i$ and the ending index of the sub array $j$ which in the worst case will be $N - 1$ (the case where the sub-array is the whole array) so that is why the substitution was made in the final line of the equation. As we see in the pseudo-code above there are three nested for-loops that will all iterate from $1$ to $N$. Thus the runtime of the whole algorithm is equivalent to $\\theta(N^{3})$."
   ]
  },
  {
   "cell_type": "markdown",
   "metadata": {},
   "source": [
    "## Experimental Analysis\n",
    "For a series of array sizes $N$, $10$ random arrays were generated and run through the \"Enumeration\" algorithm. The CPU clock time was recorded for each of the $10$ random array inputs, and an average run time was computed. Below is the plot of average run time versus $N$ for the \"Enumeration\" algorithm."
   ]
  },
  {
   "cell_type": "markdown",
   "metadata": {},
   "source": [
    "<center><font color='red' size=\"6\"><img src=\"./img/enumeration.png\" /></font></center>"
   ]
  },
  {
   "cell_type": "markdown",
   "metadata": {},
   "source": [
    "The equation of the best fit curve to the runtime data where $x$ stands in for $N$:\n",
    "\n",
    "$$y = 2.12118 * 10^{-8} * x^3 + 1.53069 * 10^{-3} * x - 1.77696 * 10^{-1}$$"
   ]
  },
  {
   "cell_type": "markdown",
   "metadata": {},
   "source": [
    "The highest degree of the best fit curve is three and as shown in the plot above, fits the data points very closely which stands to corroborate the theoretical run-time of $\\theta(N^{3})$."
   ]
  },
  {
   "cell_type": "markdown",
   "metadata": {},
   "source": [
    "Based on the average run time data curve fit, we would expect the \"Enumeration\" to be able to process the following number of elements in the given amount of time:\n",
    "\n",
    "|    Time    | Max Input Size |\n",
    "|:----------:|:--------------:|\n",
    "| 10 seconds |       798      |\n",
    "| 30 seconds |      1150      |\n",
    "| 60 seconds |      1445      |"
   ]
  }
 ],
 "metadata": {
  "kernelspec": {
   "display_name": "Python 3",
   "language": "python",
   "name": "python3"
  },
  "language_info": {
   "codemirror_mode": {
    "name": "ipython",
    "version": 3
   },
   "file_extension": ".py",
   "mimetype": "text/x-python",
   "name": "python",
   "nbconvert_exporter": "python",
   "pygments_lexer": "ipython3",
   "version": "3.5.2"
  }
 },
 "nbformat": 4,
 "nbformat_minor": 0
}
