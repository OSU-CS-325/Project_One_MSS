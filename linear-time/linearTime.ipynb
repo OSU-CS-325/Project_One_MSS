{
 "cells": [
  {
   "cell_type": "markdown",
   "metadata": {},
   "source": [
    "# Linear-time"
   ]
  },
  {
   "cell_type": "markdown",
   "metadata": {},
   "source": [
    "## Pseudo-Code\n",
    "The \"Linear-time\" maximum sub-array algorithm is described by the following pseudo-code:\n",
    "~~~~\n",
    "LINEAR-TIME-MAX-SUBARRAY(A[1, ..., N])\n",
    "\tmaximum sum = -Infinity\n",
    "\tsum ending here = -Infinity\n",
    "\tfor i from 1 to N\n",
    "\t\tending here high index = j\n",
    "\t\tif ending here sum > 0\n",
    "\t\t\tending here sum = ending here sum + A[i]\n",
    "\t\telse\n",
    "\t\t\tending here low index = j\n",
    "\t\t\tending here sum = A[i]\n",
    "\n",
    "\t\tif ending here sum > maximum sum\n",
    "\t\t\tmaximum sum = ending here sum\n",
    "\t\t\tstart index = ending here low index\n",
    "\t\t\tend index = ending here high index\n",
    "\n",
    "\treturn maximum sum, A[start index, ..., end index]\n",
    "~~~~"
   ]
  },
  {
   "cell_type": "markdown",
   "metadata": {},
   "source": [
    "## Theoretical Run-time Analysis\n",
    "The $i$ loop runs from $1$ to $N$. Inside the loop are constant time operations. We can compute the number of iterations of these constant time operations as:\n",
    "\n",
    "\\begin{equation}\n",
    "\\begin{split}\n",
    "\\sum_{i=1}^N \\Theta(1) & = N\\cdot \\Theta(1) \\\\\n",
    "& = \\Theta(N)\n",
    "\\end{split}\n",
    "\\end{equation}\n",
    "\n",
    "Thus, the theoritical run-time is $\\Theta(N)$."
   ]
  },
  {
   "cell_type": "markdown",
   "metadata": {},
   "source": [
    "## Experimental Analysis\n",
    "For a series of array sizes $N$, 10 random arrays were generated and run through the \"Linear-time\" algorithm. The CPU clock time was recorded for each of the 10 random array inputs, and an average run time was computed. Below is the plot of average run time versus $N$ for the \"Linear-time\" algorithm."
   ]
  },
  {
   "cell_type": "markdown",
   "metadata": {},
   "source": [
    "<center><font color='red' size=\"6\"><img src=\"./linear-time.png\" /></font></center>"
   ]
  },
  {
   "cell_type": "markdown",
   "metadata": {},
   "source": [
    "A curve fit was applied to the average run time data, which resulted in the following fit equation as a function of $N$:"
   ]
  },
  {
   "cell_type": "raw",
   "metadata": {},
   "source": [
    "<center><font color='red' size=\"6\">INSERT CURVE FIT EQUATION HERE</font></center>"
   ]
  },
  {
   "cell_type": "raw",
   "metadata": {},
   "source": [
    "<br><br>\n",
    "<center><font color='red' size=\"6\">DISCUSS FIT VS. THEORY HERE</font></center>"
   ]
  },
  {
   "cell_type": "markdown",
   "metadata": {},
   "source": [
    "Based on the average run time data curve fit, we would expect the \"Linear-time\" algorithm to be able to process the following number of elements in the given amount of time:\n",
    "\n",
    "|    Time    | Max Input Size |\n",
    "|:----------:|:--------------:|\n",
    "| 10 seconds |     55901100   |\n",
    "| 30 seconds |    153588000   |\n",
    "| 60 seconds |    300119000   |"
   ]
  }
 ],
 "metadata": {
  "anaconda-cloud": {},
  "kernelspec": {
   "display_name": "Python 3",
   "language": "python",
   "name": "python3"
  },
  "language_info": {
   "codemirror_mode": {
    "name": "ipython",
    "version": 3
   },
   "file_extension": ".py",
   "mimetype": "text/x-python",
   "name": "python",
   "nbconvert_exporter": "python",
   "pygments_lexer": "ipython3",
   "version": "3.5.2"
  }
 },
 "nbformat": 4,
 "nbformat_minor": 1
}
