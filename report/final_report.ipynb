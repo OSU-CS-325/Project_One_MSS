{
 "cells": [
  {
   "cell_type": "markdown",
   "metadata": {},
   "source": [
    "## Project One: Maximum Sub-Array Summation\n",
    "\n",
    "### Group 12\n",
    "\n",
    "#### Group Members\n",
    "\n",
    "* Kyle Guthrie\n",
    "* Michael C. Stramel\n",
    "* Alex Miranda"
   ]
  },
  {
   "cell_type": "markdown",
   "metadata": {},
   "source": [
    "# Enumeration"
   ]
  },
  {
   "cell_type": "markdown",
   "metadata": {},
   "source": [
    "## Pseudo-code\n",
    "The \"Enumeration\" maximum sub-array algorithm is described by the following pseudo-code:\n",
    "~~~~\n",
    "ENUMERATION-MAX-SUBARRAY(A[1,...,N]) {\n",
    "    if N == 0 {\n",
    "        return 0, A\n",
    "    } else {\n",
    "        max_sum = -Infinity\n",
    "    }\n",
    "    \n",
    "    for i from 1 to N {\n",
    "        for j from i to N {\n",
    "            current_sum = 0\n",
    "            for k from i to j {\n",
    "                current_sum = current_sum + A[k]\n",
    "                if current_sum > max_sum {\n",
    "                    max_sum = current_sum\n",
    "                    start_index = i\n",
    "                    end_index = j\n",
    "                }\n",
    "            }\n",
    "        }\n",
    "    }\n",
    "    return max_sum, A[start_index, ..., end_index]\n",
    "}\n",
    "~~~~"
   ]
  },
  {
   "cell_type": "markdown",
   "metadata": {},
   "source": [
    "## Theoretical Run-time Analysis\n",
    "The outer $i$ loop runs from $1$ to $N$, the first inner $j$ loop runs from $i$ to $N$, and the second inner loop runs from $i$ to $j$. We can compute the number of iterations as:\n",
    "\n",
    "\\begin{equation}\n",
    "\\begin{split}\n",
    "\\sum_{i=1}^N \\sum_{j=i}^N \\sum_{k=i}^j \\Theta(1) & =  \\sum_{i=1}^N (N + 1 - i)\\cdot \\Theta(1) =N(N+1)\\cdot \\Theta(1) -\\frac{1}{2}N(N+1)\\cdot \\Theta(1) \\\\\n",
    "& = \\frac{1}{2}N(N+1)\\cdot \\Theta(1) = \\Theta(N^3)\n",
    "\\end{split}\n",
    "\\end{equation}\n",
    "\n",
    "Thus the runtime is equivalent to $\\theta(N^{3})$."
   ]
  },
  {
   "cell_type": "markdown",
   "metadata": {},
   "source": [
    "## Experimental Analysis\n",
    "For a series of array sizes $N$, $10$ random arrays were generated and run through the \"Enumeration\" algorithm. The CPU clock time was recorded for each of the $10$ random array inputs, and an average run time was computed. Below is the plot of average run time versus $N$ for the \"Enumeration\" algorithm."
   ]
  },
  {
   "cell_type": "markdown",
   "metadata": {},
   "source": [
    "A curve fit was applied to the average run time data, which resulted in the following fit equation as a function of $N$:\n",
    "\n",
    "<center><font color='red' size=\"6\"><img src=\"./img/enumeration.png\" /></font></center>"
   ]
  },
  {
   "cell_type": "markdown",
   "metadata": {},
   "source": [
    "The equation of the best fit curve to the runtime data where $x$ stands in for $N$:\n",
    "\n",
    "$$y = 2.12118 * 10^{-8} * x^3 + 1.53069 * 10^{-3} * x - 1.77696 * 10^{-1}$$"
   ]
  },
  {
   "cell_type": "markdown",
   "metadata": {},
   "source": [
    "The highest degree of the best fit curve is three and as shown in the plot above, fits the data points very closely which stands to corroborate the theoretical run-time of $\\theta(N^{3})$."
   ]
  },
  {
   "cell_type": "markdown",
   "metadata": {},
   "source": [
    "Based on the average run time data curve fit, we would expect the \"Enumeration\" to be able to process the following number of elements in the given amount of time:\n",
    "\n",
    "|    Time    | Max Input Size |\n",
    "|:----------:|:--------------:|\n",
    "| 10 seconds |       798      |\n",
    "| 30 seconds |      1150      |\n",
    "| 60 seconds |      1445      |"
   ]
  },
  {
   "cell_type": "code",
   "execution_count": null,
   "metadata": {
    "collapsed": true
   },
   "outputs": [],
   "source": []
  },
  {
   "cell_type": "markdown",
   "metadata": {},
   "source": [
    "# Better Enumeration"
   ]
  },
  {
   "cell_type": "markdown",
   "metadata": {},
   "source": [
    "## Pseudo-Code\n",
    "The \"Better Enumeration\" maximum sub-array algorithm is described by the following pseudo-code:\n",
    "~~~~\n",
    "BETTER-ENUMERATION-MAX-SUBARRAY(A[1, ..., N])\n",
    "\tmaximum sum = -Infinity\n",
    "\tfor i from 1 to N\n",
    "\t\tcurrent sum = 0\n",
    "\t\tfor j from i to N\n",
    "\t\t\tcurrent sum = current sum + A[j]\n",
    "\t\t\tif current sum > maximum sum\n",
    "\t\t\t\tmaximum sum = current sum\n",
    "\t\t\t\tstart index = i\n",
    "\t\t\t\tend index = j\n",
    "\n",
    "\treturn maximum sum, A[start index, ..., end index]\n",
    "~~~~"
   ]
  },
  {
   "cell_type": "markdown",
   "metadata": {},
   "source": [
    "## Theoretical Run-time Analysis\n",
    "The outer $i$ loop runs from $1$ to $N$, and the inner $j$ loop runs from $i$ to $N$. Inside the inner loop are constant time operations. We can compute the number of iterations of these constant time operations as:\n",
    "\n",
    "\\begin{equation}\n",
    "\\begin{split}\n",
    "\\sum_{i=1}^N \\sum_{j=i}^N \\Theta(1) & =  \\sum_{i=1}^N (N + 1 - i)\\cdot \\Theta(1) =N(N+1)\\cdot \\Theta(1) -\\frac{1}{2}N(N+1)\\cdot \\Theta(1) \\\\\n",
    "& = \\frac{1}{2}N(N+1)\\cdot \\Theta(1) = \\Theta(N^2)\n",
    "\\end{split}\n",
    "\\end{equation}\n",
    "\n",
    "Thus, the theoritical run-time is $\\Theta(N^2)$."
   ]
  },
  {
   "cell_type": "markdown",
   "metadata": {},
   "source": [
    "## Experimental Analysis\n",
    "For a series of array sizes $N$, 10 random arrays were generated and run through the \"Better Enumeration\" algorithm. The CPU clock time was recorded for each of the 10 random array inputs, and an average run time was computed. Below is the plot of average run time versus $N$ for the \"Better Enumeration\" algorithm."
   ]
  },
  {
   "cell_type": "markdown",
   "metadata": {},
   "source": [
    "<center><font color='red' size=\"6\"><img src=\"./img/better-enumeration.png\" /></font></center>"
   ]
  },
  {
   "cell_type": "markdown",
   "metadata": {},
   "source": [
    "A curve fit was applied to the average run time data, which resulted in the following fit equation as a function of $x$ standing in for $N$:"
   ]
  },
  {
   "cell_type": "markdown",
   "metadata": {},
   "source": [
    "$$y = 5.48722 * 10^{-8} * x^{2} + 1.42659 * 10^{-4} * x - 7.776 * 10^{-1}$$"
   ]
  },
  {
   "cell_type": "markdown",
   "metadata": {},
   "source": [
    "The fit curve for the plotted data has the same degree as the theoretical runtime of $\\theta(N^{2})$ so the experimental appears to match the theoretical runtime. "
   ]
  },
  {
   "cell_type": "markdown",
   "metadata": {},
   "source": [
    "Based on the average run time data curve fit, we would expect the \"Better Enumeration\" to be able to process the following number of elements in the given amount of time:\n",
    "\n",
    "|    Time    | Max Input Size |\n",
    "|:----------:|:--------------:|\n",
    "| 10 seconds |      12775     |\n",
    "| 30 seconds |      22419     |\n",
    "| 60 seconds |      32006     |"
   ]
  },
  {
   "cell_type": "markdown",
   "metadata": {},
   "source": [
    "# Divide and Conquer"
   ]
  },
  {
   "cell_type": "markdown",
   "metadata": {},
   "source": [
    "## Pseudo-code\n",
    "The \"Divide and Conquer\" maximum sub-array algorithm is described by the following pseudo-code:\n",
    "~~~~\n",
    "DIVIDE_AND_CONQUER(A[1,...,N]){\n",
    "    if N == 0 {\n",
    "        return 0, A\n",
    "    } else if N == 1 {\n",
    "        return A[0], A\n",
    "    }\n",
    "\n",
    "    tmp_max = 0\n",
    "    mid_max = 0\n",
    "    mid_start = 0\n",
    "    mid_end = 0\n",
    "\n",
    "    left_max = 0\n",
    "    right_max = 0\n",
    "\n",
    "    midpoint = N / 2\n",
    "\n",
    "    mid_start = midpoint\n",
    "    mid_end = midpoint\n",
    "\n",
    "    for i from A[N,...,midpoint] {\n",
    "        tmp_max = tmp_max + A[i]\n",
    "        if tmp_max > left_max {\n",
    "            left_max = tmp_max\n",
    "            mid_start = i\n",
    "        }\n",
    "    }\n",
    "\n",
    "    tmp_max = 0\n",
    "\n",
    "    for i from A[midpoint,...,N] {\n",
    "        tmp_max = tmp_max + A[i]\n",
    "        if tmp_max > right_max {\n",
    "            right_max = tmp_max\n",
    "            mid_end = i + 1\n",
    "        }\n",
    "    }\n",
    "\n",
    "    mid_max = left_max + right_max\n",
    "\n",
    "    left_max, left_subarray = DIVIDE_AND_CONQUER(A[0,...,midpoint])\n",
    "    right_max, right_subarray = DIVIDE_AND_CONQUER(A[midpoint,...,N])\n",
    "\n",
    "    if mid_max >= left_max and mid_max >= right_max {\n",
    "        return mid_max, A[mid_start,...,mid_end]\n",
    "    } else if left_max >= right_max and left_max > mid_max {\n",
    "        return left_max, left_subarray\n",
    "    } else if right_max > left_max and right_max > mid_max {\n",
    "        return right_max, right_subarray\n",
    "    }\n",
    "}\n",
    "~~~~"
   ]
  },
  {
   "cell_type": "markdown",
   "metadata": {},
   "source": [
    "## Theoretical Run-time Analysis\n",
    "\n",
    "In order to determine the run-time of the divide and conquer algorithm we will need to derive its recurrence. We will make a simplifying assumption that the original problem size is a power of two so that all of the subproblem sizes will remain integers. We will denote $T(n)$ as the run-time of \"divide and conquer\" on a subarray of $n$ elements. The base case  is when $n = 0$ or $n = 1$ which will take constant time and as a result:\n",
    "\n",
    "* $T(1) = \\theta(1)$\n",
    "\n",
    "The recursive case occurs when $n \\gt 1$. The variable initializing prior to the first for loop will also take constant time. The following for loops are used to find the maximum sub-array that crosses the array's midpoint and will add a runtime of $\\theta(n)$. After the loops there are two recursive calls to the main function where we spend $T(\\frac{n}{2})$ solving each of them so the total contribution to the running time is $2T(\\frac{n}{2})$. The remaining if-else block would also run in constant time $(\\theta(1))$. So the recurrence in total for $n \\gt 1$ is:\n",
    "\n",
    "* $T(n) = 2T(\\frac{n}{2}) + \\theta(n) + \\theta(1)$\n",
    "* $T(n) = 2T(\\frac{n}{2}) + \\theta(n)$\n",
    "\n",
    "So the complete recurrence is:\n",
    "\n",
    "* $T(n) = \\theta(1)$ (when $n = 0$ or $n = 1$)\n",
    "* $T(n) = 2T(\\frac{n}{2}) + \\theta(n)$ (when $n \\gt 1$)\n",
    "\n",
    "The recurrence can be solved using the master method as shown below:\n",
    "\n",
    "* $T(n) = 2T(\\frac{n}{2}) + \\theta(n)$\n",
    "* $a = 2, b = 2, f(n) = \\theta(n)$\n",
    "* $n^{log_{b}(a)} = n^{log_{2}(2)} = n^{1}$\n",
    "* $\\theta(n^{log_{b}(a)}) = \\theta(n)$ (Case 2 applies)\n",
    "* $T(n) = \\theta(n^{log_{2}(2)} * log_{2}(n)) = \\theta(n * log_2(n))$ (By the master theorem)\n",
    "\n",
    "So substituting in the runtime we get:\n",
    "\n",
    "* $T(n) = \\theta(n * log_2(n)) + \\theta(n)$\n",
    "\n",
    "The $\\theta(n)$ term drops off leaving us with:\n",
    "\n",
    "* $T(n) = \\theta(n * log_2(n))$ \n",
    "\n",
    "The runtime above is for the divide and conquer algorithm for finding maximum sub arrays."
   ]
  },
  {
   "cell_type": "markdown",
   "metadata": {},
   "source": [
    "## Experimental Analysis\n",
    "For a series of array sizes $N$, $10$ random arrays were generated and run through the \"Divide and Conquer\" algorithm. The CPU clock time was recorded for each of the $10$ random array inputs, and an average run time was computed. Below is the plot of average run time versus $N$ for the \"Divide and Conquer\" algorithm."
   ]
  },
  {
   "cell_type": "markdown",
   "metadata": {},
   "source": [
    "A linear fit and logarithmic fit were applied to the average run time data, which resulted in the following fit equations as a function of $N$:\n",
    "\n",
    "<center><font color='red' size=\"6\"><img src=\"./img/divide-and-conquer.png\" /></font></center>\n",
    "\n",
    "This plot has both a linear fit and a logarithmic fit to show how similiar they present for the values plotted. The logarithmic curve fits the data points almost exactly therefore it shows that the experimental values are strongly aligned with the theoretically derived runtime of $\\theta(n * log_2(n))$."
   ]
  },
  {
   "cell_type": "markdown",
   "metadata": {},
   "source": [
    "Based on the average run time data curve fit, we would expect the \"Divide and Conquer\" algorithm to be able to process the following number of elements in the given amount of time:\n",
    "\n",
    "|    Time    | Max Input Size |\n",
    "|:----------:|:--------------:|\n",
    "| 10 seconds |      $1687210$      |\n",
    "| 30 seconds |      $5050390$      |\n",
    "| 60 seconds |      $9848770$      |"
   ]
  },
  {
   "cell_type": "markdown",
   "metadata": {},
   "source": [
    "# Linear-time"
   ]
  },
  {
   "cell_type": "markdown",
   "metadata": {},
   "source": [
    "## Pseudo-Code\n",
    "The \"Linear-time\" maximum sub-array algorithm is described by the following pseudo-code:\n",
    "~~~~\n",
    "LINEAR-TIME-MAX-SUBARRAY(A[1, ..., N])\n",
    "\tmaximum sum = -Infinity\n",
    "\tsum ending here = -Infinity\n",
    "\tfor i from 1 to N\n",
    "\t\tending here high index = j\n",
    "\t\tif ending here sum > 0\n",
    "\t\t\tending here sum = ending here sum + A[i]\n",
    "\t\telse\n",
    "\t\t\tending here low index = j\n",
    "\t\t\tending here sum = A[i]\n",
    "\n",
    "\t\tif ending here sum > maximum sum\n",
    "\t\t\tmaximum sum = ending here sum\n",
    "\t\t\tstart index = ending here low index\n",
    "\t\t\tend index = ending here high index\n",
    "\n",
    "\treturn maximum sum, A[start index, ..., end index]\n",
    "~~~~"
   ]
  },
  {
   "cell_type": "markdown",
   "metadata": {},
   "source": [
    "## Theoretical Run-time Analysis\n",
    "The $i$ loop runs from $1$ to $N$. Inside the loop are constant time operations. We can compute the number of iterations of these constant time operations as:\n",
    "\n",
    "\\begin{equation}\n",
    "\\begin{split}\n",
    "\\sum_{i=1}^N \\Theta(1) & = N\\cdot \\Theta(1) \\\\\n",
    "& = \\Theta(N)\n",
    "\\end{split}\n",
    "\\end{equation}\n",
    "\n",
    "Thus, the theoritical run-time is $\\Theta(N)$."
   ]
  },
  {
   "cell_type": "markdown",
   "metadata": {},
   "source": [
    "## Experimental Analysis\n",
    "For a series of array sizes $N$, 10 random arrays were generated and run through the \"Linear-time\" algorithm. The CPU clock time was recorded for each of the 10 random array inputs, and an average run time was computed. Below is the plot of average run time versus $N$ for the \"Linear-time\" algorithm."
   ]
  },
  {
   "cell_type": "markdown",
   "metadata": {},
   "source": [
    "<center><font color='red' size=\"6\"><img src=\"./img/linear-time.png\" /></font></center>"
   ]
  },
  {
   "cell_type": "markdown",
   "metadata": {},
   "source": [
    "A curve fit was applied to the average run time data, which resulted in the following fit equation as a function of $x$ standing in for $N$:"
   ]
  },
  {
   "cell_type": "markdown",
   "metadata": {},
   "source": [
    "$$y = 2.04735 * 10^{-7} * x - 1.4449$$"
   ]
  },
  {
   "cell_type": "markdown",
   "metadata": {},
   "source": [
    "The best fit curve fits the plotted data extremely well, showing that the runtimes reflect a linear trend. The observed linear trend in the data matches with the theoretically derived runtime of $\\theta(n)$."
   ]
  },
  {
   "cell_type": "markdown",
   "metadata": {},
   "source": [
    "Based on the average run time data curve fit, we would expect the \"Linear-time\" algorithm to be able to process the following number of elements in the given amount of time:\n",
    "\n",
    "|    Time    | Max Input Size |\n",
    "|:----------:|:--------------:|\n",
    "| 10 seconds |     55901100   |\n",
    "| 30 seconds |    153588000   |\n",
    "| 60 seconds |    300119000   |"
   ]
  },
  {
   "cell_type": "markdown",
   "metadata": {},
   "source": [
    "# Testing\n",
    "Several sets of test data were used to ensure the accuracy of each of the algorithms. These test data were comprised of arrays of values with known maximum sub-array solutions. These test sets were run through each algorithm, and the output was compared to the known solution.\n",
    "\n",
    "Along with the provided set of test cases, several additional test cases were generated in order to test the algorithm accuracy under very specific conditions. Some examples of these test cases include:\n",
    "* The trivial case of a single array element\n",
    "* Arrays with a single positive value as the first or last element (to test the handling of the boundaries)\n",
    "* Arrays with a single positive value in the middle of the arrary\n",
    "* Arrays where the running sum reaches 0 at some point (i.e. multiple maximum sum sub-arrays possible)\n",
    "\n",
    "All algorithms correctly solved all of the test data sets."
   ]
  }
 ],
 "metadata": {
  "kernelspec": {
   "display_name": "Python 3",
   "language": "python",
   "name": "python3"
  },
  "language_info": {
   "codemirror_mode": {
    "name": "ipython",
    "version": 3
   },
   "file_extension": ".py",
   "mimetype": "text/x-python",
   "name": "python",
   "nbconvert_exporter": "python",
   "pygments_lexer": "ipython3",
   "version": "3.5.2"
  },
  "name": "_merged"
 },
 "nbformat": 4,
 "nbformat_minor": 0
}
