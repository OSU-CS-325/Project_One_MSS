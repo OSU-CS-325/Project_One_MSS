{
 "cells": [
  {
   "cell_type": "markdown",
   "metadata": {},
   "source": [
    "# Divide and Conquer"
   ]
  },
  {
   "cell_type": "markdown",
   "metadata": {},
   "source": [
    "## Pseudo-code\n",
    "The \"Divide and Conquer\" maximum sub-array algorithm is described by the following pseudo-code:\n",
    "~~~~\n",
    "DIVIDE_AND_CONQUER(A[1,...,N]){\n",
    "    if N == 0 {\n",
    "        return 0, A\n",
    "    } else if N == 1 {\n",
    "        return A[0], A\n",
    "    }\n",
    "\n",
    "    tmp_max = 0\n",
    "    mid_max = 0\n",
    "    mid_start = 0\n",
    "    mid_end = 0\n",
    "\n",
    "    left_max = 0\n",
    "    right_max = 0\n",
    "\n",
    "    midpoint = N / 2\n",
    "\n",
    "    mid_start = midpoint\n",
    "    mid_end = midpoint\n",
    "\n",
    "    for i from A[N,...,midpoint] {\n",
    "        tmp_max = tmp_max + A[i]\n",
    "        if tmp_max > left_max {\n",
    "            left_max = tmp_max\n",
    "            mid_start = i\n",
    "        }\n",
    "    }\n",
    "\n",
    "    tmp_max = 0\n",
    "\n",
    "    for i from A[midpoint,...,N] {\n",
    "        tmp_max = tmp_max + A[i]\n",
    "        if tmp_max > right_max {\n",
    "            right_max = tmp_max\n",
    "            mid_end = i + 1\n",
    "        }\n",
    "    }\n",
    "\n",
    "    mid_max = left_max + right_max\n",
    "\n",
    "    left_max, left_subarray = DIVIDE_AND_CONQUER(A[0,...,midpoint])\n",
    "    right_max, right_subarray = DIVIDE_AND_CONQUER(A[midpoint,...,N])\n",
    "\n",
    "    if mid_max >= left_max and mid_max >= right_max {\n",
    "        return mid_max, A[mid_start,...,mid_end]\n",
    "    } else if left_max >= right_max and left_max > mid_max {\n",
    "        return left_max, left_subarray\n",
    "    } else if right_max > left_max and right_max > mid_max {\n",
    "        return right_max, right_subarray\n",
    "    }\n",
    "}\n",
    "~~~~"
   ]
  },
  {
   "cell_type": "markdown",
   "metadata": {},
   "source": [
    "## Theoretical Run-time Analysis\n",
    "\n"
   ]
  },
  {
   "cell_type": "markdown",
   "metadata": {},
   "source": [
    "## Experimental Analysis\n",
    "For a series of array sizes $N$, $10$ random arrays were generated and run through the \"Divide and Conquer\" algorithm. The CPU clock time was recorded for each of the $10$ random array inputs, and an average run time was computed. Below is the plot of average run time versus $N$ for the \"Divide and Conquer\" algorithm."
   ]
  },
  {
   "cell_type": "markdown",
   "metadata": {},
   "source": [
    "A curve fit was applied to the average run time data, which resulted in the following fit equation as a function of $N$:\n",
    "\n",
    "<center><font color='red' size=\"6\"><img src=\"./divide-and-conquer.png\" /></font></center>"
   ]
  },
  {
   "cell_type": "code",
   "execution_count": null,
   "metadata": {
    "collapsed": true
   },
   "outputs": [],
   "source": []
  }
 ],
 "metadata": {
  "kernelspec": {
   "display_name": "Python 3",
   "language": "python",
   "name": "python3"
  },
  "language_info": {
   "codemirror_mode": {
    "name": "ipython",
    "version": 3
   },
   "file_extension": ".py",
   "mimetype": "text/x-python",
   "name": "python",
   "nbconvert_exporter": "python",
   "pygments_lexer": "ipython3",
   "version": "3.5.2"
  }
 },
 "nbformat": 4,
 "nbformat_minor": 0
}
